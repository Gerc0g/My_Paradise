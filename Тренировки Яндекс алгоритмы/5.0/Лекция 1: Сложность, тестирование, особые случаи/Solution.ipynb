{
 "cells": [
  {
   "cell_type": "markdown",
   "metadata": {},
   "source": [
    "# A. Покраска деревьев\n"
   ]
  },
  {
   "cell_type": "code",
   "execution_count": 4,
   "metadata": {},
   "outputs": [
    {
     "name": "stdout",
     "output_type": "stream",
     "text": [
      "0 7\n",
      "12 5\n",
      "-7 7 14 7 17 10\n"
     ]
    }
   ],
   "source": [
    "import math\n",
    "\n",
    "P,V = map(int, input().split())\n",
    "Q,M = map(int, input().split())\n",
    "\n",
    "PetyaL,PetyaR,CountPetya = P-V , P+V, abs((P+V) - (P-V))+1\n",
    "MashaL,MashaR,CountMasha = Q-M, Q+M, abs((Q+M)-(Q-M))+1\n",
    "\n",
    "if PetyaL == MashaL and PetyaR == MashaR:\n",
    "    pass\n",
    "elif PetyaL == MashaL or PetyaR == MashaR:\n",
    "    \n",
    "\n",
    "print(PetyaL,PetyaR,CountPetya,MashaL,MashaR,CountMasha)"
   ]
  },
  {
   "cell_type": "markdown",
   "metadata": {},
   "source": [
    "# C. Форматирование файла\n",
    "\n"
   ]
  },
  {
   "cell_type": "code",
   "execution_count": 5,
   "metadata": {},
   "outputs": [
    {
     "name": "stdout",
     "output_type": "stream",
     "text": [
      "5\n",
      "1\n",
      "14\n",
      "12\n",
      "32\n",
      "5\n",
      "5 [1, 14, 12, 32, 5]\n"
     ]
    }
   ],
   "source": [
    "n = int(input())\n",
    "click = []\n",
    "\n",
    "for i in range(n):\n",
    "    click.append(int(input()))\n",
    "    \n",
    "count = 0\n",
    "for i in click:\n",
    "    if i == 0:\n",
    "        pass\n",
    "    elif i%4 == 0:\n",
    "        count += i//4\n",
    "    "
   ]
  },
  {
   "cell_type": "code",
   "execution_count": null,
   "metadata": {},
   "outputs": [],
   "source": []
  }
 ],
 "metadata": {
  "kernelspec": {
   "display_name": "Python 3",
   "language": "python",
   "name": "python3"
  },
  "language_info": {
   "codemirror_mode": {
    "name": "ipython",
    "version": 3
   },
   "file_extension": ".py",
   "mimetype": "text/x-python",
   "name": "python",
   "nbconvert_exporter": "python",
   "pygments_lexer": "ipython3",
   "version": "3.7.3"
  }
 },
 "nbformat": 4,
 "nbformat_minor": 2
}
